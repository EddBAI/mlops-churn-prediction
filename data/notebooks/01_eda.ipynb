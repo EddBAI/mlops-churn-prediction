{
 "cells": [
  {
   "cell_type": "code",
   "execution_count": null,
   "metadata": {
    "vscode": {
     "languageId": "plaintext"
    }
   },
   "outputs": [],
   "source": [
    "import pandas as pd, seaborn as sns, matplotlib.pyplot as plt\n",
    "df = pd.read_csv(\"../data/raw/WA_Fn-UseC-Telco-Customer-Churn.csv\")\n",
    "\n",
    "df.head()\n",
    "df.info()\n",
    "df.isna().mean().sort_values(ascending=False)      # % de nulos\n",
    "sns.countplot(x=\"Churn\", data=df)                  # balanceamento das classes\n",
    "sns.boxplot(x=\"Churn\", y=\"tenure\", data=df)        # exemplo de relação"
   ]
  }
 ],
 "metadata": {
  "language_info": {
   "name": "python"
  }
 },
 "nbformat": 4,
 "nbformat_minor": 2
}
